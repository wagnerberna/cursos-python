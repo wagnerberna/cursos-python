{
  "nbformat": 4,
  "nbformat_minor": 0,
  "metadata": {
    "colab": {
      "name": "distribuicao_discreta.ipynb",
      "provenance": [],
      "collapsed_sections": []
    },
    "kernelspec": {
      "name": "python3",
      "display_name": "Python 3"
    },
    "language_info": {
      "name": "python"
    }
  },
  "cells": [
    {
      "cell_type": "markdown",
      "metadata": {
        "id": "o1l_Hn4Y205Y"
      },
      "source": [
        "# **Distribuição Discreta**"
      ]
    },
    {
      "cell_type": "code",
      "metadata": {
        "id": "KyCE-Wmy24Uv"
      },
      "source": [
        "import numpy as np\n",
        "import pandas as pd"
      ],
      "execution_count": 1,
      "outputs": []
    },
    {
      "cell_type": "code",
      "metadata": {
        "id": "GMQGhQnt3B8-"
      },
      "source": [
        "enem_sp = pd.read_csv('/content/drive/MyDrive/Cursos_Udemy/curso_estatistica_python/enem_2019_tratado.csv',\n",
        "                      sep=',', encoding='iso-8859-1')"
      ],
      "execution_count": 2,
      "outputs": []
    },
    {
      "cell_type": "markdown",
      "metadata": {
        "id": "sX7FY6UX61QV"
      },
      "source": [
        "## Distribuição Binomial"
      ]
    },
    {
      "cell_type": "code",
      "metadata": {
        "id": "6HNMC-mQ2zVa"
      },
      "source": [
        "from scipy.stats import binom  "
      ],
      "execution_count": 3,
      "outputs": []
    },
    {
      "cell_type": "code",
      "metadata": {
        "id": "44vb3Ow_8VSi"
      },
      "source": [
        "# PROBABILIDADE DE RETIRAR UMA MULHER\n",
        "mulher_enem = enem_sp.loc[enem_sp.SEXO == 'F']"
      ],
      "execution_count": 4,
      "outputs": []
    },
    {
      "cell_type": "code",
      "metadata": {
        "colab": {
          "base_uri": "https://localhost:8080/"
        },
        "id": "NeE5KHytQkRS",
        "outputId": "80c0a1c5-b15c-43ed-f3eb-bd0e91e6a030"
      },
      "source": [
        "p = len(mulher_enem) / len(enem_sp)\n",
        "p"
      ],
      "execution_count": 5,
      "outputs": [
        {
          "output_type": "execute_result",
          "data": {
            "text/plain": [
              "0.5803136376365163"
            ]
          },
          "metadata": {
            "tags": []
          },
          "execution_count": 5
        }
      ]
    },
    {
      "cell_type": "markdown",
      "metadata": {
        "id": "CI9vWO8M9h-2"
      },
      "source": [
        "binom.pmf = valor pontual\n",
        "\n",
        "binom.cdf = faixa de valores (acumulada)"
      ]
    },
    {
      "cell_type": "code",
      "metadata": {
        "colab": {
          "base_uri": "https://localhost:8080/"
        },
        "id": "Mts7Oo6A9NH_",
        "outputId": "c952257c-9299-4250-ce7e-6ca32b4bca5d"
      },
      "source": [
        "# PROBABILIDADE DE RETIRAR EXATAMENTE 4 MULHERES NUM TOTAL DE 10 AMOSTRAS\n",
        "\n",
        "binom.pmf(4,10,p)\n",
        "\n",
        "# Primeiro parâmetro:valor ou limite que se está pretendo calcular\n",
        "# Segundo: número de tentativas\n",
        "# Terceiro: probabilidade de um sucesso."
      ],
      "execution_count": 6,
      "outputs": [
        {
          "output_type": "execute_result",
          "data": {
            "text/plain": [
              "0.13014261971434263"
            ]
          },
          "metadata": {
            "tags": []
          },
          "execution_count": 6
        }
      ]
    },
    {
      "cell_type": "code",
      "metadata": {
        "colab": {
          "base_uri": "https://localhost:8080/"
        },
        "id": "HvOI10drC_GF",
        "outputId": "a196f0f7-7aa8-4555-a19a-b8b457e5838a"
      },
      "source": [
        "# PROBABILIDADE DE RETIRAR PELO MENOS UMA MULHER NUM TOTAL DE 10 AMOSTRAS\n",
        "\n",
        "p0 = 1 - binom.pmf(0,10,p)\n",
        "p0"
      ],
      "execution_count": 7,
      "outputs": [
        {
          "output_type": "execute_result",
          "data": {
            "text/plain": [
              "0.9998304692157152"
            ]
          },
          "metadata": {
            "tags": []
          },
          "execution_count": 7
        }
      ]
    },
    {
      "cell_type": "code",
      "metadata": {
        "colab": {
          "base_uri": "https://localhost:8080/"
        },
        "id": "NQ52M4UPDbdq",
        "outputId": "679088fc-6184-476e-ef74-2d2d4ae3ce67"
      },
      "source": [
        "# PROBABILIDADE DE RETIRAR MAIS DO QUE 1 MULHER NUM TOTAL DE 10 AMOSTRAS\n",
        "p1 = 1 - (binom.pmf(0,10,p)+binom.pmf(1,10,p))\n",
        "p1"
      ],
      "execution_count": 8,
      "outputs": [
        {
          "output_type": "execute_result",
          "data": {
            "text/plain": [
              "0.997486313318782"
            ]
          },
          "metadata": {
            "tags": []
          },
          "execution_count": 8
        }
      ]
    },
    {
      "cell_type": "code",
      "metadata": {
        "colab": {
          "base_uri": "https://localhost:8080/"
        },
        "id": "B83PrmCcDxbj",
        "outputId": "8f13186b-3354-4e9f-e8cc-ee82cb00f6ac"
      },
      "source": [
        "# PROBABILIDADE DE RETIRAR MAIS DO QUE 3 MULHERES NUM TOTAL DE 10 AMOSTRAS\n",
        "\n",
        "p2p2 = 1 - (binom.pmf(0,10,p)+binom.pmf(1,10,p)+binom.pmf(2,10,p)+binom.pmf(3,10,p))"
      ],
      "execution_count": 9,
      "outputs": [
        {
          "output_type": "execute_result",
          "data": {
            "text/plain": [
              "0.9291174685122049"
            ]
          },
          "metadata": {
            "tags": []
          },
          "execution_count": 9
        }
      ]
    },
    {
      "cell_type": "code",
      "metadata": {
        "colab": {
          "base_uri": "https://localhost:8080/"
        },
        "id": "Yf_QuuZKMUNB",
        "outputId": "31cf927c-e1b7-4a84-ebe8-53477c10ebf7"
      },
      "source": [
        "p2 = binom.pmf(4,10,p)+binom.pmf(5,10,p)+binom.pmf(6,10,p)+binom.pmf(7,10,p)+binom.pmf(8,10,p)+binom.pmf(9,10,p)+binom.pmf(10,10,p)\n",
        "p2"
      ],
      "execution_count": 11,
      "outputs": [
        {
          "output_type": "execute_result",
          "data": {
            "text/plain": [
              "0.9291174685122056"
            ]
          },
          "metadata": {
            "tags": []
          },
          "execution_count": 11
        }
      ]
    },
    {
      "cell_type": "code",
      "metadata": {
        "colab": {
          "base_uri": "https://localhost:8080/"
        },
        "id": "qrc8OWVdEGSS",
        "outputId": "da50d7c1-ec0c-4280-8558-19d5e59f9a18"
      },
      "source": [
        "# OUTRA FORMA\n",
        "p3 = 1 - binom.cdf(3, 10, p)\n",
        "p3"
      ],
      "execution_count": 12,
      "outputs": [
        {
          "output_type": "execute_result",
          "data": {
            "text/plain": [
              "0.929117468512205"
            ]
          },
          "metadata": {
            "tags": []
          },
          "execution_count": 12
        }
      ]
    },
    {
      "cell_type": "code",
      "metadata": {
        "colab": {
          "base_uri": "https://localhost:8080/"
        },
        "id": "Qblfs10VFjuv",
        "outputId": "f55bc85d-e273-4928-8ec4-052caa528ed7"
      },
      "source": [
        "# PROBABILIDADE DE RETIRAR MAIS DO QUE 8 MULHERES NUM TOTAL DE 10 AMOSTRAS\n",
        "p4 = binom.pmf(9,10,p)+binom.pmf(10,10,p)\n",
        "p4\n"
      ],
      "execution_count": 13,
      "outputs": [
        {
          "output_type": "execute_result",
          "data": {
            "text/plain": [
              "0.0356563059595738"
            ]
          },
          "metadata": {
            "tags": []
          },
          "execution_count": 13
        }
      ]
    },
    {
      "cell_type": "code",
      "metadata": {
        "colab": {
          "base_uri": "https://localhost:8080/"
        },
        "id": "hZOwxY22F17D",
        "outputId": "6ec98260-23d8-4688-d078-633643bd1209"
      },
      "source": [
        "# OUTRA FORMA\n",
        "p5 = binom.cdf(10, 10, p) - binom.cdf(8, 10, p)\n",
        "p5"
      ],
      "execution_count": 14,
      "outputs": [
        {
          "output_type": "execute_result",
          "data": {
            "text/plain": [
              "0.03565630595957381"
            ]
          },
          "metadata": {
            "tags": []
          },
          "execution_count": 14
        }
      ]
    },
    {
      "cell_type": "markdown",
      "metadata": {
        "id": "nvMHLvJfIoDf"
      },
      "source": [
        "## Distribuição Geométrica"
      ]
    },
    {
      "cell_type": "code",
      "metadata": {
        "id": "IR1g2RkFI5ER"
      },
      "source": [
        "from scipy.stats import geom"
      ],
      "execution_count": 19,
      "outputs": []
    },
    {
      "cell_type": "code",
      "metadata": {
        "colab": {
          "base_uri": "https://localhost:8080/"
        },
        "id": "Ft7_jnHaI7J8",
        "outputId": "5d5624a2-3afd-4e9c-9f3e-bdc7d12d6ec9"
      },
      "source": [
        "# PROBABILIDADE DE RETIRAR 3 AMOSTRAS E NENHUMA SER MULHER\n",
        "# geom.pmf(x,p) x representa a tentativa que se obteve sucesso e p a probabilidade\n",
        "geom.pmf(4, p) \n",
        "\n"
      ],
      "execution_count": 20,
      "outputs": [
        {
          "output_type": "execute_result",
          "data": {
            "text/plain": [
              "0.042898029955685306"
            ]
          },
          "metadata": {
            "tags": []
          },
          "execution_count": 20
        }
      ]
    },
    {
      "cell_type": "markdown",
      "metadata": {
        "id": "ipFZGhUYGGq8"
      },
      "source": [
        "## Distribuição de Poisson"
      ]
    },
    {
      "cell_type": "code",
      "metadata": {
        "id": "v-f6tec8GF2L"
      },
      "source": [
        "from scipy.stats import poisson"
      ],
      "execution_count": 21,
      "outputs": []
    },
    {
      "cell_type": "code",
      "metadata": {
        "colab": {
          "base_uri": "https://localhost:8080/"
        },
        "id": "q6f8mGj5Huw4",
        "outputId": "635931e5-bccf-4a8e-ce5f-f8823e52313f"
      },
      "source": [
        "# Num local de prova, 100 vestibulandos, normalmente, terminaram a prova em 2 horas (tempo mínimo).\n",
        "# Probabilidade de exatamente 90 vestibulandos terminarem a prova em 2h.\n",
        "\n",
        "# poisson.pmf(x, m) x é a quantidade de ocorrências EM ESTUDO e m é a taxa de ocorrências.\n",
        "\n",
        "poisson.pmf(90,100)"
      ],
      "execution_count": 22,
      "outputs": [
        {
          "output_type": "execute_result",
          "data": {
            "text/plain": [
              "0.025038944623030353"
            ]
          },
          "metadata": {
            "tags": []
          },
          "execution_count": 22
        }
      ]
    }
  ]
}